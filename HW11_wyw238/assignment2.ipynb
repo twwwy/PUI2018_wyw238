{
 "cells": [
  {
   "cell_type": "code",
   "execution_count": 1,
   "metadata": {},
   "outputs": [
    {
     "name": "stdout",
     "output_type": "stream",
     "text": [
      "Populating the interactive namespace from numpy and matplotlib\n"
     ]
    }
   ],
   "source": [
    "from __future__  import print_function, division\n",
    "import pylab as pl\n",
    "import pandas as pd\n",
    "import numpy as np\n",
    "import os\n",
    "\n",
    "%pylab inline\n",
    "\n",
    "if os.getenv ('PUI2018') is None:\n",
    "    pui2018 = os.environ[\"PUI2018\"] = \"%s/PUI2018\"%os.getenv(\"HOME\")\n",
    "if os.getenv ('PUIDATA') is None:\n",
    "    print (\"Must set env variable PUIDATA\")\n",
    "\n",
    "import os\n",
    "import json\n",
    "#s = json.load( open(os.getenv('PUI2018') + \"/wyw_matplotlibrc.json\") )\n",
    "#pl.rcParams.update(s)\n",
    "\n"
   ]
  },
  {
   "cell_type": "code",
   "execution_count": 2,
   "metadata": {},
   "outputs": [],
   "source": [
    "### A function to download the data: simple bash commands can be run by preceding them with !\n",
    "### but more complex command lines with variable arguments need to be build as strng and run with os.system\n",
    "### this code cell does a lot of things: looks for existing files, download a file if none is there, unzips it, moves it.\n",
    "### you do not have to have a code cell this complicated. \n",
    "### As long as \n",
    "### 1) your research is reproducible: we can access the same file as you without having to ask you for the file\n",
    "### 2) and your data is stored in a directory pointed to by the env variable PUIDATA \n",
    "### you will be fine. We already explored how to download data in other notebooks!\n",
    "\n",
    "def getCitiBikeCSV(datestring):\n",
    "    print (\"Downloading\", datestring)\n",
    "    ### First I will heck that it is not already there\n",
    "    if not os.path.isfile(os.getenv(\"PUIDATA\") + \"/\" + datestring + \"-citibike-tripdata.csv\"):\n",
    "        if os.path.isfile(datestring + \"-citibike-tripdata.csv\"):\n",
    "            # if in the current dir just move it\n",
    "            if os.system(\"mv \" + datestring + \"-citibike-tripdata.csv \" + os.getenv(\"PUIDATA\")):\n",
    "                print (\"Error moving file!, Please check!\")\n",
    "        #otherwise start looking for the zip file\n",
    "        else:\n",
    "            if not os.path.isfile(os.getenv(\"PUIDATA\") + \"/\" + datestring + \"-citibike-tripdata.zip\"):\n",
    "                if not os.path.isfile(datestring + \"-citibike-tripdata.zip\"):\n",
    "                    os.system(\"curl -O https://s3.amazonaws.com/tripdata/\" + datestring + \"-citibike-tripdata.zip\")\n",
    "                ###  To move it I use the os.system() functions to run bash commands with arguments\n",
    "                os.system(\"mv \" + datestring + \"-citibike-tripdata.zip \" + os.getenv(\"PUIDATA\"))\n",
    "            ### unzip the csv \n",
    "            os.system(\"unzip \" + os.getenv(\"PUIDATA\") + \"/\" + datestring + \"-citibike-tripdata.zip\")\n",
    "            ## NOTE: old csv citibike data had a different name structure. \n",
    "            if '2014' in datestring:\n",
    "                os.system(\"mv \" + datestring[:4] + '-' +  datestring[4:] + \n",
    "                          \"\\ -\\ Citi\\ Bike\\ trip\\ data.csv \" + datestring + \"-citibike-tripdata.csv\")\n",
    "            os.system(\"mv \" + datestring + \"-citibike-tripdata.csv \" + os.getenv(\"PUIDATA\"))\n",
    "    ### One final check:\n",
    "    if not os.path.isfile(os.getenv(\"PUIDATA\") + \"/\" + datestring + \"-citibike-tripdata.csv\"):\n",
    "        print (\"WARNING!!! something is wrong: the file is not there!\")\n",
    "\n",
    "    else:\n",
    "        print (\"file in place, you can continue\")"
   ]
  },
  {
   "cell_type": "code",
   "execution_count": 3,
   "metadata": {},
   "outputs": [
    {
     "name": "stdout",
     "output_type": "stream",
     "text": [
      "Downloading 201704\n",
      "file in place, you can continue\n"
     ]
    }
   ],
   "source": [
    "datestring = '201704'\n",
    "getCitiBikeCSV(datestring)"
   ]
  },
  {
   "cell_type": "markdown",
   "metadata": {},
   "source": [
    "# Idea:\n",
    "## Young people are less likely to choose biking for commuting\n",
    "# Null Hypothesis:\n",
    "## The proportion of people whose age are under 30 year old (Y) biking on weekends is the same or lower than the proportion of people whose age are equal or over 30 years old (O) biking on weekends.\n",
    "# _$H_0$_ : $\\frac{Y_{\\mathrm{weekend}}}{Y_{\\mathrm{total}}} <= \\frac{O_{\\mathrm{weekend}}}{O_{\\mathrm{total}}}$\n",
    "# _$H_1$_ : $\\frac{Y_{\\mathrm{weekend}}}{Y_{\\mathrm{total}}} > \\frac{O_{\\mathrm{total}}}{O_{\\mathrm{total}}}$\n",
    "## I will use a significance level  $\\alpha=0.05$"
   ]
  },
  {
   "cell_type": "code",
   "execution_count": 4,
   "metadata": {},
   "outputs": [
    {
     "data": {
      "text/html": [
       "<div>\n",
       "<table border=\"1\" class=\"dataframe\">\n",
       "  <thead>\n",
       "    <tr style=\"text-align: right;\">\n",
       "      <th></th>\n",
       "      <th>tripduration</th>\n",
       "      <th>starttime</th>\n",
       "      <th>stoptime</th>\n",
       "      <th>start station id</th>\n",
       "      <th>start station name</th>\n",
       "      <th>start station latitude</th>\n",
       "      <th>start station longitude</th>\n",
       "      <th>end station id</th>\n",
       "      <th>end station name</th>\n",
       "      <th>end station latitude</th>\n",
       "      <th>end station longitude</th>\n",
       "      <th>bikeid</th>\n",
       "      <th>usertype</th>\n",
       "      <th>birth year</th>\n",
       "      <th>gender</th>\n",
       "      <th>date</th>\n",
       "    </tr>\n",
       "  </thead>\n",
       "  <tbody>\n",
       "    <tr>\n",
       "      <th>0</th>\n",
       "      <td>195</td>\n",
       "      <td>2017-04-01 00:00:58</td>\n",
       "      <td>2017-04-01 00:04:14</td>\n",
       "      <td>217</td>\n",
       "      <td>Old Fulton St</td>\n",
       "      <td>40.702772</td>\n",
       "      <td>-73.993836</td>\n",
       "      <td>430</td>\n",
       "      <td>York St &amp; Jay St</td>\n",
       "      <td>40.701485</td>\n",
       "      <td>-73.986569</td>\n",
       "      <td>25454</td>\n",
       "      <td>Subscriber</td>\n",
       "      <td>1966.0</td>\n",
       "      <td>1</td>\n",
       "      <td>2017-04-01 00:00:58</td>\n",
       "    </tr>\n",
       "    <tr>\n",
       "      <th>1</th>\n",
       "      <td>585</td>\n",
       "      <td>2017-04-01 00:01:54</td>\n",
       "      <td>2017-04-01 00:11:40</td>\n",
       "      <td>490</td>\n",
       "      <td>8 Ave &amp; W 33 St</td>\n",
       "      <td>40.751551</td>\n",
       "      <td>-73.993934</td>\n",
       "      <td>3158</td>\n",
       "      <td>W 63 St &amp; Broadway</td>\n",
       "      <td>40.771639</td>\n",
       "      <td>-73.982614</td>\n",
       "      <td>25930</td>\n",
       "      <td>Subscriber</td>\n",
       "      <td>1995.0</td>\n",
       "      <td>1</td>\n",
       "      <td>2017-04-01 00:01:54</td>\n",
       "    </tr>\n",
       "    <tr>\n",
       "      <th>2</th>\n",
       "      <td>665</td>\n",
       "      <td>2017-04-01 00:01:56</td>\n",
       "      <td>2017-04-01 00:13:01</td>\n",
       "      <td>504</td>\n",
       "      <td>1 Ave &amp; E 16 St</td>\n",
       "      <td>40.732219</td>\n",
       "      <td>-73.981656</td>\n",
       "      <td>412</td>\n",
       "      <td>Forsyth St &amp; Canal St</td>\n",
       "      <td>40.715816</td>\n",
       "      <td>-73.994224</td>\n",
       "      <td>27110</td>\n",
       "      <td>Subscriber</td>\n",
       "      <td>1987.0</td>\n",
       "      <td>1</td>\n",
       "      <td>2017-04-01 00:01:56</td>\n",
       "    </tr>\n",
       "    <tr>\n",
       "      <th>3</th>\n",
       "      <td>262</td>\n",
       "      <td>2017-04-01 00:02:24</td>\n",
       "      <td>2017-04-01 00:06:47</td>\n",
       "      <td>445</td>\n",
       "      <td>E 10 St &amp; Avenue A</td>\n",
       "      <td>40.727408</td>\n",
       "      <td>-73.981420</td>\n",
       "      <td>411</td>\n",
       "      <td>E 6 St &amp; Avenue D</td>\n",
       "      <td>40.722281</td>\n",
       "      <td>-73.976687</td>\n",
       "      <td>28392</td>\n",
       "      <td>Subscriber</td>\n",
       "      <td>1961.0</td>\n",
       "      <td>1</td>\n",
       "      <td>2017-04-01 00:02:24</td>\n",
       "    </tr>\n",
       "    <tr>\n",
       "      <th>4</th>\n",
       "      <td>134</td>\n",
       "      <td>2017-04-01 00:02:36</td>\n",
       "      <td>2017-04-01 00:04:50</td>\n",
       "      <td>3423</td>\n",
       "      <td>West Drive &amp; Prospect Park West</td>\n",
       "      <td>40.661063</td>\n",
       "      <td>-73.979453</td>\n",
       "      <td>3300</td>\n",
       "      <td>Prospect Park West &amp; 8 St</td>\n",
       "      <td>40.665147</td>\n",
       "      <td>-73.976376</td>\n",
       "      <td>19316</td>\n",
       "      <td>Subscriber</td>\n",
       "      <td>1967.0</td>\n",
       "      <td>2</td>\n",
       "      <td>2017-04-01 00:02:36</td>\n",
       "    </tr>\n",
       "  </tbody>\n",
       "</table>\n",
       "</div>"
      ],
      "text/plain": [
       "   tripduration            starttime             stoptime  start station id  \\\n",
       "0           195  2017-04-01 00:00:58  2017-04-01 00:04:14               217   \n",
       "1           585  2017-04-01 00:01:54  2017-04-01 00:11:40               490   \n",
       "2           665  2017-04-01 00:01:56  2017-04-01 00:13:01               504   \n",
       "3           262  2017-04-01 00:02:24  2017-04-01 00:06:47               445   \n",
       "4           134  2017-04-01 00:02:36  2017-04-01 00:04:50              3423   \n",
       "\n",
       "                start station name  start station latitude  \\\n",
       "0                    Old Fulton St               40.702772   \n",
       "1                  8 Ave & W 33 St               40.751551   \n",
       "2                  1 Ave & E 16 St               40.732219   \n",
       "3               E 10 St & Avenue A               40.727408   \n",
       "4  West Drive & Prospect Park West               40.661063   \n",
       "\n",
       "   start station longitude  end station id           end station name  \\\n",
       "0               -73.993836             430           York St & Jay St   \n",
       "1               -73.993934            3158         W 63 St & Broadway   \n",
       "2               -73.981656             412      Forsyth St & Canal St   \n",
       "3               -73.981420             411          E 6 St & Avenue D   \n",
       "4               -73.979453            3300  Prospect Park West & 8 St   \n",
       "\n",
       "   end station latitude  end station longitude  bikeid    usertype  \\\n",
       "0             40.701485             -73.986569   25454  Subscriber   \n",
       "1             40.771639             -73.982614   25930  Subscriber   \n",
       "2             40.715816             -73.994224   27110  Subscriber   \n",
       "3             40.722281             -73.976687   28392  Subscriber   \n",
       "4             40.665147             -73.976376   19316  Subscriber   \n",
       "\n",
       "   birth year  gender                date  \n",
       "0      1966.0       1 2017-04-01 00:00:58  \n",
       "1      1995.0       1 2017-04-01 00:01:54  \n",
       "2      1987.0       1 2017-04-01 00:01:56  \n",
       "3      1961.0       1 2017-04-01 00:02:24  \n",
       "4      1967.0       2 2017-04-01 00:02:36  "
      ]
     },
     "execution_count": 4,
     "metadata": {},
     "output_type": "execute_result"
    }
   ],
   "source": [
    "df = pd.read_csv(os.getenv(\"PUIDATA\") + \"/\" + datestring + '-citibike-tripdata.csv')\n",
    "# df is the dataframe where the content of the csv file is stored\n",
    "df['date'] = pd.to_datetime(df['starttime'])\n",
    "# note that with dataframes I can refer to variables as dictionary keys, \n",
    "# i.e. df['starttime'] or as attributes: df.starttime. \n",
    "df.head()"
   ]
  },
  {
   "cell_type": "code",
   "execution_count": 5,
   "metadata": {},
   "outputs": [
    {
     "name": "stderr",
     "output_type": "stream",
     "text": [
      "/usr/local/Anaconda3-5.0.0-Linux-x86_64/envs/PUI2016_Python3/lib/python3.5/site-packages/numpy/lib/function_base.py:3403: RuntimeWarning: Invalid value encountered in median\n",
      "  RuntimeWarning)\n"
     ]
    },
    {
     "data": {
      "text/html": [
       "<div>\n",
       "<table border=\"1\" class=\"dataframe\">\n",
       "  <thead>\n",
       "    <tr style=\"text-align: right;\">\n",
       "      <th></th>\n",
       "      <th>tripduration</th>\n",
       "      <th>start station id</th>\n",
       "      <th>start station latitude</th>\n",
       "      <th>start station longitude</th>\n",
       "      <th>end station id</th>\n",
       "      <th>end station latitude</th>\n",
       "      <th>end station longitude</th>\n",
       "      <th>bikeid</th>\n",
       "      <th>birth year</th>\n",
       "      <th>gender</th>\n",
       "    </tr>\n",
       "  </thead>\n",
       "  <tbody>\n",
       "    <tr>\n",
       "      <th>count</th>\n",
       "      <td>1.315404e+06</td>\n",
       "      <td>1.315404e+06</td>\n",
       "      <td>1.315404e+06</td>\n",
       "      <td>1.315404e+06</td>\n",
       "      <td>1.315404e+06</td>\n",
       "      <td>1.315404e+06</td>\n",
       "      <td>1.315404e+06</td>\n",
       "      <td>1.315404e+06</td>\n",
       "      <td>1.146732e+06</td>\n",
       "      <td>1.315404e+06</td>\n",
       "    </tr>\n",
       "    <tr>\n",
       "      <th>mean</th>\n",
       "      <td>1.085863e+03</td>\n",
       "      <td>1.301595e+03</td>\n",
       "      <td>4.073695e+01</td>\n",
       "      <td>-7.398503e+01</td>\n",
       "      <td>1.296313e+03</td>\n",
       "      <td>4.073660e+01</td>\n",
       "      <td>-7.398515e+01</td>\n",
       "      <td>2.321637e+04</td>\n",
       "      <td>1.978600e+03</td>\n",
       "      <td>1.087354e+00</td>\n",
       "    </tr>\n",
       "    <tr>\n",
       "      <th>std</th>\n",
       "      <td>2.608589e+04</td>\n",
       "      <td>1.317271e+03</td>\n",
       "      <td>2.802218e-02</td>\n",
       "      <td>1.683575e-02</td>\n",
       "      <td>1.316380e+03</td>\n",
       "      <td>4.518291e-02</td>\n",
       "      <td>6.668075e-02</td>\n",
       "      <td>4.789893e+03</td>\n",
       "      <td>1.184778e+01</td>\n",
       "      <td>5.852278e-01</td>\n",
       "    </tr>\n",
       "    <tr>\n",
       "      <th>min</th>\n",
       "      <td>6.100000e+01</td>\n",
       "      <td>7.200000e+01</td>\n",
       "      <td>4.064654e+01</td>\n",
       "      <td>-7.401713e+01</td>\n",
       "      <td>7.200000e+01</td>\n",
       "      <td>0.000000e+00</td>\n",
       "      <td>-7.404964e+01</td>\n",
       "      <td>1.452900e+04</td>\n",
       "      <td>1.885000e+03</td>\n",
       "      <td>0.000000e+00</td>\n",
       "    </tr>\n",
       "    <tr>\n",
       "      <th>25%</th>\n",
       "      <td>3.820000e+02</td>\n",
       "      <td>3.580000e+02</td>\n",
       "      <td>4.071882e+01</td>\n",
       "      <td>-7.399683e+01</td>\n",
       "      <td>3.580000e+02</td>\n",
       "      <td>4.071882e+01</td>\n",
       "      <td>-7.399705e+01</td>\n",
       "      <td>1.860800e+04</td>\n",
       "      <td>NaN</td>\n",
       "      <td>1.000000e+00</td>\n",
       "    </tr>\n",
       "    <tr>\n",
       "      <th>50%</th>\n",
       "      <td>6.490000e+02</td>\n",
       "      <td>4.830000e+02</td>\n",
       "      <td>4.073782e+01</td>\n",
       "      <td>-7.398752e+01</td>\n",
       "      <td>4.820000e+02</td>\n",
       "      <td>4.073705e+01</td>\n",
       "      <td>-7.398765e+01</td>\n",
       "      <td>2.532800e+04</td>\n",
       "      <td>NaN</td>\n",
       "      <td>1.000000e+00</td>\n",
       "    </tr>\n",
       "    <tr>\n",
       "      <th>75%</th>\n",
       "      <td>1.144000e+03</td>\n",
       "      <td>3.126000e+03</td>\n",
       "      <td>4.075601e+01</td>\n",
       "      <td>-7.397606e+01</td>\n",
       "      <td>3.124000e+03</td>\n",
       "      <td>4.075527e+01</td>\n",
       "      <td>-7.397621e+01</td>\n",
       "      <td>2.749800e+04</td>\n",
       "      <td>NaN</td>\n",
       "      <td>1.000000e+00</td>\n",
       "    </tr>\n",
       "    <tr>\n",
       "      <th>max</th>\n",
       "      <td>9.735948e+06</td>\n",
       "      <td>3.463000e+03</td>\n",
       "      <td>4.080421e+01</td>\n",
       "      <td>-7.392989e+01</td>\n",
       "      <td>3.463000e+03</td>\n",
       "      <td>4.080421e+01</td>\n",
       "      <td>0.000000e+00</td>\n",
       "      <td>2.969900e+04</td>\n",
       "      <td>2.001000e+03</td>\n",
       "      <td>2.000000e+00</td>\n",
       "    </tr>\n",
       "  </tbody>\n",
       "</table>\n",
       "</div>"
      ],
      "text/plain": [
       "       tripduration  start station id  start station latitude  \\\n",
       "count  1.315404e+06      1.315404e+06            1.315404e+06   \n",
       "mean   1.085863e+03      1.301595e+03            4.073695e+01   \n",
       "std    2.608589e+04      1.317271e+03            2.802218e-02   \n",
       "min    6.100000e+01      7.200000e+01            4.064654e+01   \n",
       "25%    3.820000e+02      3.580000e+02            4.071882e+01   \n",
       "50%    6.490000e+02      4.830000e+02            4.073782e+01   \n",
       "75%    1.144000e+03      3.126000e+03            4.075601e+01   \n",
       "max    9.735948e+06      3.463000e+03            4.080421e+01   \n",
       "\n",
       "       start station longitude  end station id  end station latitude  \\\n",
       "count             1.315404e+06    1.315404e+06          1.315404e+06   \n",
       "mean             -7.398503e+01    1.296313e+03          4.073660e+01   \n",
       "std               1.683575e-02    1.316380e+03          4.518291e-02   \n",
       "min              -7.401713e+01    7.200000e+01          0.000000e+00   \n",
       "25%              -7.399683e+01    3.580000e+02          4.071882e+01   \n",
       "50%              -7.398752e+01    4.820000e+02          4.073705e+01   \n",
       "75%              -7.397606e+01    3.124000e+03          4.075527e+01   \n",
       "max              -7.392989e+01    3.463000e+03          4.080421e+01   \n",
       "\n",
       "       end station longitude        bikeid    birth year        gender  \n",
       "count           1.315404e+06  1.315404e+06  1.146732e+06  1.315404e+06  \n",
       "mean           -7.398515e+01  2.321637e+04  1.978600e+03  1.087354e+00  \n",
       "std             6.668075e-02  4.789893e+03  1.184778e+01  5.852278e-01  \n",
       "min            -7.404964e+01  1.452900e+04  1.885000e+03  0.000000e+00  \n",
       "25%            -7.399705e+01  1.860800e+04           NaN  1.000000e+00  \n",
       "50%            -7.398765e+01  2.532800e+04           NaN  1.000000e+00  \n",
       "75%            -7.397621e+01  2.749800e+04           NaN  1.000000e+00  \n",
       "max             0.000000e+00  2.969900e+04  2.001000e+03  2.000000e+00  "
      ]
     },
     "execution_count": 5,
     "metadata": {},
     "output_type": "execute_result"
    }
   ],
   "source": [
    "df.describe()"
   ]
  },
  {
   "cell_type": "code",
   "execution_count": 6,
   "metadata": {},
   "outputs": [
    {
     "data": {
      "text/html": [
       "<div>\n",
       "<table border=\"1\" class=\"dataframe\">\n",
       "  <thead>\n",
       "    <tr style=\"text-align: right;\">\n",
       "      <th></th>\n",
       "      <th>usertype</th>\n",
       "      <th>tripduration</th>\n",
       "    </tr>\n",
       "  </thead>\n",
       "  <tbody>\n",
       "    <tr>\n",
       "      <th>0</th>\n",
       "      <td>Customer</td>\n",
       "      <td>461776013</td>\n",
       "    </tr>\n",
       "    <tr>\n",
       "      <th>1</th>\n",
       "      <td>Subscriber</td>\n",
       "      <td>966572815</td>\n",
       "    </tr>\n",
       "  </tbody>\n",
       "</table>\n",
       "</div>"
      ],
      "text/plain": [
       "     usertype  tripduration\n",
       "0    Customer     461776013\n",
       "1  Subscriber     966572815"
      ]
     },
     "execution_count": 6,
     "metadata": {},
     "output_type": "execute_result"
    }
   ],
   "source": [
    "df.groupby(df['usertype']).sum().reset_index()[['usertype', 'tripduration']]"
   ]
  },
  {
   "cell_type": "code",
   "execution_count": 7,
   "metadata": {},
   "outputs": [
    {
     "data": {
      "text/html": [
       "<div>\n",
       "<table border=\"1\" class=\"dataframe\">\n",
       "  <thead>\n",
       "    <tr style=\"text-align: right;\">\n",
       "      <th></th>\n",
       "      <th>usertype</th>\n",
       "      <th>tripduration</th>\n",
       "    </tr>\n",
       "  </thead>\n",
       "  <tbody>\n",
       "    <tr>\n",
       "      <th>0</th>\n",
       "      <td>Customer</td>\n",
       "      <td>188860</td>\n",
       "    </tr>\n",
       "    <tr>\n",
       "      <th>1</th>\n",
       "      <td>Subscriber</td>\n",
       "      <td>1126544</td>\n",
       "    </tr>\n",
       "  </tbody>\n",
       "</table>\n",
       "</div>"
      ],
      "text/plain": [
       "     usertype  tripduration\n",
       "0    Customer        188860\n",
       "1  Subscriber       1126544"
      ]
     },
     "execution_count": 7,
     "metadata": {},
     "output_type": "execute_result"
    }
   ],
   "source": [
    "df.groupby(df['usertype']).count().reset_index()[['usertype', 'tripduration']]"
   ]
  },
  {
   "cell_type": "code",
   "execution_count": 8,
   "metadata": {},
   "outputs": [],
   "source": [
    "df.drop(['tripduration', 'starttime', 'stoptime', 'start station id',\n",
    "       'start station name', 'start station latitude',\n",
    "       'start station longitude', 'end station id', 'end station name',\n",
    "       'end station latitude', 'end station longitude', 'bikeid', 'usertype',\n",
    "       'gender'], axis=1, inplace=True)"
   ]
  },
  {
   "cell_type": "code",
   "execution_count": 9,
   "metadata": {},
   "outputs": [
    {
     "data": {
      "text/html": [
       "<div>\n",
       "<table border=\"1\" class=\"dataframe\">\n",
       "  <thead>\n",
       "    <tr style=\"text-align: right;\">\n",
       "      <th></th>\n",
       "      <th>birth year</th>\n",
       "      <th>date</th>\n",
       "    </tr>\n",
       "  </thead>\n",
       "  <tbody>\n",
       "    <tr>\n",
       "      <th>0</th>\n",
       "      <td>1966.0</td>\n",
       "      <td>2017-04-01 00:00:58</td>\n",
       "    </tr>\n",
       "    <tr>\n",
       "      <th>1</th>\n",
       "      <td>1995.0</td>\n",
       "      <td>2017-04-01 00:01:54</td>\n",
       "    </tr>\n",
       "    <tr>\n",
       "      <th>2</th>\n",
       "      <td>1987.0</td>\n",
       "      <td>2017-04-01 00:01:56</td>\n",
       "    </tr>\n",
       "    <tr>\n",
       "      <th>3</th>\n",
       "      <td>1961.0</td>\n",
       "      <td>2017-04-01 00:02:24</td>\n",
       "    </tr>\n",
       "    <tr>\n",
       "      <th>4</th>\n",
       "      <td>1967.0</td>\n",
       "      <td>2017-04-01 00:02:36</td>\n",
       "    </tr>\n",
       "  </tbody>\n",
       "</table>\n",
       "</div>"
      ],
      "text/plain": [
       "   birth year                date\n",
       "0      1966.0 2017-04-01 00:00:58\n",
       "1      1995.0 2017-04-01 00:01:54\n",
       "2      1987.0 2017-04-01 00:01:56\n",
       "3      1961.0 2017-04-01 00:02:24\n",
       "4      1967.0 2017-04-01 00:02:36"
      ]
     },
     "execution_count": 9,
     "metadata": {},
     "output_type": "execute_result"
    }
   ],
   "source": [
    "df.head()"
   ]
  },
  {
   "cell_type": "code",
   "execution_count": 10,
   "metadata": {},
   "outputs": [],
   "source": [
    "#df.columns(index=str, columns={'birth year': 'birth_year'})"
   ]
  },
  {
   "cell_type": "code",
   "execution_count": 11,
   "metadata": {},
   "outputs": [],
   "source": [
    "age_splitor = 2017 - 30"
   ]
  },
  {
   "cell_type": "code",
   "execution_count": 12,
   "metadata": {},
   "outputs": [
    {
     "data": {
      "text/plain": [
       "<matplotlib.legend.Legend at 0x7fef18a9f4e0>"
      ]
     },
     "execution_count": 12,
     "metadata": {},
     "output_type": "execute_result"
    },
    {
     "data": {
      "image/png": "[encoded data removed]",
      "text/plain": [
       "<matplotlib.figure.Figure at 0x7fef407097f0>"
      ]
     },
     "metadata": {},
     "output_type": "display_data"
    }
   ],
   "source": [
    "fig = pl.figure(figsize(15,15))\n",
    "\n",
    "#instad of plotting with matplotlib i.e. plot() i use the plot method in pandas\n",
    "(df['date'][df['birth year'] > age_splitor].groupby([df['date'].dt.weekday]).count()).plot(kind=\"bar\", \n",
    "                                                                                         color='IndianRed', \n",
    "                                                                                         label='young')\n",
    "\n",
    "ax = (df['date'][df['birth year'] <= age_splitor].groupby([df['date'].dt.weekday]).count()).plot(kind=\"bar\", \n",
    "                                                                                              color='SteelBlue', \n",
    "                                                                                              alpha=0.5,\n",
    "                                                                                              label='older')\n",
    "\n",
    "tmp = ax.xaxis.set_ticklabels(['Mon', 'Tue', 'Wed', 'Thu', 'Fri', 'Sat', 'Sun'], fontsize=20)\n",
    "pl.legend()"
   ]
  },
  {
   "cell_type": "markdown",
   "metadata": {},
   "source": [
    "## Figure 1a: Distribution of Citibike bikers by age in April 2017, absolute counts"
   ]
  },
  {
   "cell_type": "code",
   "execution_count": 13,
   "metadata": {},
   "outputs": [
    {
     "data": {
      "text/plain": [
       "<matplotlib.legend.Legend at 0x7fef40709710>"
      ]
     },
     "execution_count": 13,
     "metadata": {},
     "output_type": "execute_result"
    },
    {
     "data": {
      "image/png": "[encoded data removed]",
      "text/plain": [
       "<matplotlib.figure.Figure at 0x7fef40709470>"
      ]
     },
     "metadata": {},
     "output_type": "display_data"
    }
   ],
   "source": [
    "fig=pl.figure(figsize(15,10))\n",
    "\n",
    "counts_y = (df['date'][df['birth year'] > age_splitor]).groupby([df.date.dt.weekday]).count()\n",
    "norm_y = 1\n",
    "error_y = np.sqrt(counts_y)\n",
    "ax=((counts_y) / norm_y).plot(kind=\"bar\",color='IndianRed',  yerr=[\n",
    "            ((error_y) / norm_y, (error_y) / norm_y)], label='young bikers')\n",
    "\n",
    "\n",
    "counts_o = (df['date'][df['birth year'] <= age_splitor]).groupby([df.date.dt.weekday]).count()\n",
    "norm_o = 1\n",
    "error_o=np.sqrt(counts_o)\n",
    "((counts_o) / norm_o).plot(kind=\"bar\", alpha=0.5, yerr=[((error_o) / norm_o, (error_o) / norm_o)], \n",
    "                           color='SteelBlue', label='older bikers')\n",
    "ax.xaxis.set_ticklabels(['Mon','Tue','Wed','Thu','Fri','Sat','Sun'], fontsize=20)\n",
    "ax.set_ylabel (\"Number of rides\")\n",
    "ax.set_xlabel (\"Day of the week\")\n",
    "pl.legend(['young bikers','older bikers'],fontsize=20)"
   ]
  },
  {
   "cell_type": "markdown",
   "metadata": {},
   "source": [
    "## Figure 1b: Distribution of Citibike bikers by age in April 2017, absolute counts, with statistical errors"
   ]
  },
  {
   "cell_type": "code",
   "execution_count": 15,
   "metadata": {},
   "outputs": [
    {
     "data": {
      "text/plain": [
       "<matplotlib.legend.Legend at 0x7fef18947f28>"
      ]
     },
     "execution_count": 15,
     "metadata": {},
     "output_type": "execute_result"
    },
    {
     "data": {
      "image/png": "[encoded data removed]",
      "text/plain": [
       "<matplotlib.figure.Figure at 0x7fef1894eef0>"
      ]
     },
     "metadata": {},
     "output_type": "display_data"
    }
   ],
   "source": [
    "fig = pl.figure(figsize(15,10))\n",
    "\n",
    "norm_y = counts_y.sum()\n",
    "error_y = np.sqrt(counts_y)\n",
    "((counts_y) / norm_y).plot(kind=\"bar\", color='IndianRed',  \n",
    "                           yerr=[((error_y) / norm_y, (error_y) / norm_y)], \n",
    "                           label='bikers ages < 30')\n",
    "\n",
    "norm_o = counts_o.sum()\n",
    "ax = ((counts_o) / norm_o).plot(kind=\"bar\", alpha=0.5, \n",
    "                                yerr=[((error_o) / norm_o, (error_o) / norm_o)], \n",
    "                                color='SteelBlue', label='bikers ages >= 30')\n",
    "\n",
    "ax.xaxis.set_ticklabels(['Mon', 'Tue', 'Wed', 'Thu', 'Fri', 'Sat', 'Sun'], fontsize=20)\n",
    "ax.set_ylabel (\"Fraction of rides\")\n",
    "ax.set_xlabel (\"Day of the week\")\n",
    "\n",
    "pl.legend(['bikers ages < 30','bikers ages >= 30'],fontsize=20)\n",
    "\n"
   ]
  },
  {
   "cell_type": "markdown",
   "metadata": {},
   "source": [
    "## Figure 2: Distribution of Citibike bikers by age in April 2017, normalized"
   ]
  },
  {
   "cell_type": "code",
   "execution_count": 64,
   "metadata": {},
   "outputs": [],
   "source": [
    "week_y = sum(counts_y[:-2]) / norm_y\n",
    "weekend_y = sum(counts_y[-2:]) / norm_y\n",
    "\n",
    "week_o = sum(counts_o[:-2]) / norm_o\n",
    "weekend_o = sum(counts_o[-2:]) / norm_o"
   ]
  },
  {
   "cell_type": "code",
   "execution_count": 65,
   "metadata": {},
   "outputs": [
    {
     "name": "stdout",
     "output_type": "stream",
     "text": [
      "difference between man and women on weekend:  0.06094294269\n",
      "We must check the significance before we reject the Null Hypothesis\n"
     ]
    }
   ],
   "source": [
    "P0mP1 = weekend_y - weekend_o\n",
    "print (\"difference between man and women on weekend: \", P0mP1)\n",
    "if P0mP1 <= 0:\n",
    "    # we are done...\n",
    "    print(\"In accordance with Null Hypothesis\")\n",
    "else:\n",
    "    # morework to do\n",
    "    print (\"We must check the significance before we reject the Null Hypothesis\")"
   ]
  },
  {
   "cell_type": "code",
   "execution_count": 66,
   "metadata": {},
   "outputs": [
    {
     "name": "stdout",
     "output_type": "stream",
     "text": [
      "The z statistics is 64.04\n"
     ]
    }
   ],
   "source": [
    "p = lambda p0, p1, n0, n1: (p0 * n0 + p1 * n1) / (n0 + n1)\n",
    "se = lambda p, n0, n1: np.sqrt(p * (1 - p) * (1.0 / n0 + 1.0 / n1)) #standard error\n",
    "zscore = lambda p0, p1, s : (p0 - p1) / s\n",
    "\n",
    "# calculations\n",
    "\n",
    "sp_stdev_mw = se(p(weekend_y, weekend_o, norm_y, norm_o), norm_y, norm_o)\n",
    "# print (sp_stdev_mw)\n",
    "z = zscore(weekend_y, weekend_o, sp_stdev_mw)\n",
    "print (\"The z statistics is %.2f\"%z)"
   ]
  },
  {
   "cell_type": "markdown",
   "metadata": {},
   "source": [
    "## A z score of 64.04 is statistically significant. Therefore, we reject the Null Hypothesis that older people are more likely to commute than younger people."
   ]
  },
  {
   "cell_type": "code",
   "execution_count": null,
   "metadata": {},
   "outputs": [],
   "source": []
  }
 ],
 "metadata": {
  "kernelspec": {
   "display_name": "PUI2016_Python3",
   "language": "python",
   "name": "pui2016_python3"
  },
  "language_info": {
   "codemirror_mode": {
    "name": "ipython",
    "version": 3
   },
   "file_extension": ".py",
   "mimetype": "text/x-python",
   "name": "python",
   "nbconvert_exporter": "python",
   "pygments_lexer": "ipython3",
   "version": "3.5.4"
  }
 },
 "nbformat": 4,
 "nbformat_minor": 2
}
